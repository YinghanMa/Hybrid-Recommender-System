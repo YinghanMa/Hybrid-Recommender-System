{
 "cells": [
  {
   "cell_type": "code",
   "execution_count": 5,
   "id": "86a756a6",
   "metadata": {},
   "outputs": [],
   "source": [
    "# Load necessary library\n",
    "import pandas as pd\n",
    "import numpy as np\n",
    "from surprise import SVD, BaselineOnly, Dataset, Reader\n",
    "from sklearn.metrics import mean_squared_error\n",
    "from sklearn.model_selection import KFold\n",
    "import xgboost as xgb\n",
    "import matplotlib.pyplot as plt\n",
    "import seaborn as sns"
   ]
  },
  {
   "cell_type": "markdown",
   "id": "cd231778",
   "metadata": {},
   "source": [
    "# 1.Exploratory Data Analysis"
   ]
  },
  {
   "cell_type": "code",
   "execution_count": 6,
   "id": "14c8838e",
   "metadata": {},
   "outputs": [
    {
     "name": "stdout",
     "output_type": "stream",
     "text": [
      "rating\n",
      "1     29149\n",
      "2     35446\n",
      "3     79870\n",
      "4    185193\n",
      "5    416231\n",
      "Name: count, dtype: int64\n"
     ]
    }
   ],
   "source": [
    "# Load data\n",
    "train_df = pd.read_csv(\"train.csv\")\n",
    "test_df = pd.read_csv(\"test.csv\")\n",
    "\n",
    "# check rating distribution\n",
    "print(train_df['rating'].value_counts().sort_index())"
   ]
  },
  {
   "cell_type": "code",
   "execution_count": 7,
   "id": "6d9b512c",
   "metadata": {},
   "outputs": [
    {
     "name": "stdout",
     "output_type": "stream",
     "text": [
      "=== Train Set Overview ===\n",
      "<class 'pandas.core.frame.DataFrame'>\n",
      "RangeIndex: 745889 entries, 0 to 745888\n",
      "Data columns (total 7 columns):\n",
      " #   Column         Non-Null Count   Dtype \n",
      "---  ------         --------------   ----- \n",
      " 0   user_id        745889 non-null  int64 \n",
      " 1   product_id     745889 non-null  int64 \n",
      " 2   product_name   745889 non-null  object\n",
      " 3   rating         745889 non-null  int64 \n",
      " 4   votes          745889 non-null  int64 \n",
      " 5   helpful_votes  745889 non-null  int64 \n",
      " 6   ID             745889 non-null  int64 \n",
      "dtypes: int64(6), object(1)\n",
      "memory usage: 39.8+ MB\n",
      "None\n",
      "              user_id     product_id product_name         rating  \\\n",
      "count   745889.000000  745889.000000       745889  745889.000000   \n",
      "unique            NaN            NaN       178037            NaN   \n",
      "top               NaN            NaN   The Hobbit            NaN   \n",
      "freq              NaN            NaN          783            NaN   \n",
      "mean      1143.427653  116563.109093          NaN       4.238671   \n",
      "std        625.686509   68180.221826          NaN       1.072359   \n",
      "min          0.000000       0.000000          NaN       1.000000   \n",
      "25%        590.000000   54561.000000          NaN       4.000000   \n",
      "50%       1227.000000  119997.000000          NaN       5.000000   \n",
      "75%       1748.000000  182973.000000          NaN       5.000000   \n",
      "max       1999.000000  219858.000000          NaN       5.000000   \n",
      "\n",
      "                votes  helpful_votes             ID  \n",
      "count   745889.000000  745889.000000  745889.000000  \n",
      "unique            NaN            NaN            NaN  \n",
      "top               NaN            NaN            NaN  \n",
      "freq              NaN            NaN            NaN  \n",
      "mean         7.408667       5.381212  372944.000000  \n",
      "std         16.949467      13.089394  215319.751804  \n",
      "min          0.000000       0.000000       0.000000  \n",
      "25%          1.000000       1.000000  186472.000000  \n",
      "50%          4.000000       2.000000  372944.000000  \n",
      "75%          8.000000       6.000000  559416.000000  \n",
      "max       3740.000000    2537.000000  745888.000000  \n",
      "\n",
      "=== Test Set Overview ===\n",
      "<class 'pandas.core.frame.DataFrame'>\n",
      "RangeIndex: 223553 entries, 0 to 223552\n",
      "Data columns (total 4 columns):\n",
      " #   Column        Non-Null Count   Dtype \n",
      "---  ------        --------------   ----- \n",
      " 0   ID            223553 non-null  int64 \n",
      " 1   user_id       223553 non-null  int64 \n",
      " 2   product_id    223553 non-null  int64 \n",
      " 3   product_name  223553 non-null  object\n",
      "dtypes: int64(3), object(1)\n",
      "memory usage: 6.8+ MB\n",
      "None\n",
      "                   ID        user_id     product_id product_name\n",
      "count   223553.000000  223553.000000  223553.000000       223553\n",
      "unique            NaN            NaN            NaN        90875\n",
      "top               NaN            NaN            NaN   The Hobbit\n",
      "freq              NaN            NaN            NaN          222\n",
      "mean    111776.000000    1246.429084  114716.816227          NaN\n",
      "std      64534.336701     631.803559   67690.437246          NaN\n",
      "min          0.000000       0.000000       2.000000          NaN\n",
      "25%      55888.000000     694.000000   54039.000000          NaN\n",
      "50%     111776.000000    1428.000000  114356.000000          NaN\n",
      "75%     167664.000000    1916.000000  178415.000000          NaN\n",
      "max     223552.000000    1999.000000  219857.000000          NaN\n",
      "\n",
      "=== Training Rating Distribution ===\n",
      "rating\n",
      "1     29149\n",
      "2     35446\n",
      "3     79870\n",
      "4    185193\n",
      "5    416231\n",
      "Name: count, dtype: int64\n",
      "\n",
      "=== ID Ranges ===\n",
      "Train - User ID range: 0 to 1999\n",
      "Train - Product ID range: 0 to 219858\n",
      "Test  - User ID range: 0 to 1999\n",
      "Test  - Product ID range: 2 to 219857\n",
      "\n",
      "=== Top Active Users ===\n",
      "user_id\n",
      "1916    112483\n",
      "1502     28404\n",
      "70        7530\n",
      "874       4855\n",
      "1716      4260\n",
      "Name: count, dtype: int64\n",
      "\n",
      "=== Top Reviewed Products ===\n",
      "product_id\n",
      "212937    275\n",
      "212359    267\n",
      "192681    255\n",
      "213993    253\n",
      "212370    251\n",
      "Name: count, dtype: int64\n",
      "\n",
      "=== Duplicate User-Product Pairs in Train Set: 0 ===\n",
      "\n",
      "=== Cold-Start Analysis ===\n",
      "Cold-start users in test set: 0\n",
      "Cold-start products in test set: 18534\n"
     ]
    }
   ],
   "source": [
    "# === Train Set Overview ===\n",
    "print(\"=== Train Set Overview ===\")\n",
    "print(train_df.info())\n",
    "print(train_df.describe(include='all'))\n",
    "\n",
    "# === Test Set Overview ===\n",
    "print(\"\\n=== Test Set Overview ===\")\n",
    "print(test_df.info())\n",
    "print(test_df.describe(include='all'))\n",
    "\n",
    "# === Rating distribution ===\n",
    "print(\"\\n=== Training Rating Distribution ===\")\n",
    "print(train_df['rating'].value_counts().sort_index())\n",
    "\n",
    "# === ID Ranges ===\n",
    "print(\"\\n=== ID Ranges ===\")\n",
    "print(\"Train - User ID range:\", train_df['user_id'].min(), \"to\", train_df['user_id'].max())\n",
    "print(\"Train - Product ID range:\", train_df['product_id'].min(), \"to\", train_df['product_id'].max())\n",
    "print(\"Test  - User ID range:\", test_df['user_id'].min(), \"to\", test_df['user_id'].max())\n",
    "print(\"Test  - Product ID range:\", test_df['product_id'].min(), \"to\", test_df['product_id'].max())\n",
    "\n",
    "# === Top Active Users ===\n",
    "print(\"\\n=== Top Active Users ===\")\n",
    "print(train_df['user_id'].value_counts().head())\n",
    "\n",
    "# === Top Reviewed Products ===\n",
    "print(\"\\n=== Top Reviewed Products ===\")\n",
    "print(train_df['product_id'].value_counts().head())\n",
    "\n",
    "# === Check duplicate user-product pairs ===\n",
    "duplicates = train_df.duplicated(subset=['user_id', 'product_id']).sum()\n",
    "print(f\"\\n=== Duplicate User-Product Pairs in Train Set: {duplicates} ===\")\n",
    "\n",
    "# === Cold-start check ===\n",
    "train_users = set(train_df['user_id'])\n",
    "train_products = set(train_df['product_id'])\n",
    "test_users = set(test_df['user_id'])\n",
    "test_products = set(test_df['product_id'])\n",
    "\n",
    "cold_users = test_users - train_users\n",
    "cold_products = test_products - train_products\n",
    "\n",
    "print(\"\\n=== Cold-Start Analysis ===\")\n",
    "print(\"Cold-start users in test set:\", len(cold_users))\n",
    "print(\"Cold-start products in test set:\", len(cold_products))"
   ]
  },
  {
   "cell_type": "code",
   "execution_count": 8,
   "id": "73bded98",
   "metadata": {},
   "outputs": [
    {
     "name": "stderr",
     "output_type": "stream",
     "text": [
      "/var/folders/qw/999v1mjj1jqf4vrtqy31cwv80000gn/T/ipykernel_26918/3985652804.py:3: FutureWarning: \n",
      "\n",
      "Passing `palette` without assigning `hue` is deprecated and will be removed in v0.14.0. Assign the `x` variable to `hue` and set `legend=False` for the same effect.\n",
      "\n",
      "  sns.countplot(x='rating', data=train_df, palette='Blues')\n"
     ]
    },
    {
     "data": {
      "image/png": "[encoded data removed]",
      "text/plain": [
       "<Figure size 600x400 with 1 Axes>"
      ]
     },
     "metadata": {},
     "output_type": "display_data"
    }
   ],
   "source": [
    "# Rating Distribution\n",
    "plt.figure(figsize=(6, 4))\n",
    "sns.countplot(x='rating', data=train_df, palette='Blues')\n",
    "plt.title(\"Distribution of Ratings in Training Set\")\n",
    "plt.xlabel(\"Rating\")\n",
    "plt.ylabel(\"Count\")\n",
    "plt.show()"
   ]
  },
  {
   "cell_type": "markdown",
   "id": "78ba5ede",
   "metadata": {},
   "source": [
    "# 2. Feature Engineering"
   ]
  },
  {
   "cell_type": "code",
   "execution_count": 9,
   "id": "0c4aba49",
   "metadata": {},
   "outputs": [
    {
     "data": {
      "image/png": "[encoded data removed]",
      "text/plain": [
       "<Figure size 600x400 with 1 Axes>"
      ]
     },
     "metadata": {},
     "output_type": "display_data"
    },
    {
     "data": {
      "image/png": "[encoded data removed]",
      "text/plain": [
       "<Figure size 600x400 with 1 Axes>"
      ]
     },
     "metadata": {},
     "output_type": "display_data"
    }
   ],
   "source": [
    "# Add structured features\n",
    "user_counts = train_df['user_id'].value_counts().to_dict()\n",
    "item_counts = train_df['product_id'].value_counts().to_dict()\n",
    "\n",
    "train_df['user_count'] = train_df['user_id'].map(user_counts)\n",
    "train_df['item_count'] = train_df['product_id'].map(item_counts)\n",
    "test_df['user_count'] = test_df['user_id'].map(user_counts).fillna(0)\n",
    "test_df['item_count'] = test_df['product_id'].map(item_counts).fillna(0)\n",
    "\n",
    "# User Count Histogram\n",
    "plt.figure(figsize=(6, 4))\n",
    "sns.histplot(train_df['user_count'], bins=50, log_scale=True, color='orange')\n",
    "plt.title(\"User Activity Distribution (log-scaled)\")\n",
    "plt.xlabel(\"Number of Ratings per User\")\n",
    "plt.ylabel(\"Frequency\")\n",
    "plt.show()\n",
    "\n",
    "# Item Count Histogram\n",
    "plt.figure(figsize=(6, 4))\n",
    "sns.histplot(train_df['item_count'], bins=50, log_scale=True, color='green')\n",
    "plt.title(\"Item Popularity Distribution (log-scaled)\")\n",
    "plt.xlabel(\"Number of Ratings per Product\")\n",
    "plt.ylabel(\"Frequency\")\n",
    "plt.show()"
   ]
  },
  {
   "cell_type": "markdown",
   "id": "44e768bd",
   "metadata": {},
   "source": [
    "# 3. Model Training and Validation"
   ]
  },
  {
   "cell_type": "code",
   "execution_count": 10,
   "id": "e976875f",
   "metadata": {},
   "outputs": [
    {
     "name": "stdout",
     "output_type": "stream",
     "text": [
      "\n",
      "=== Fold 1 ===\n",
      "Estimating biases using als...\n"
     ]
    },
    {
     "name": "stderr",
     "output_type": "stream",
     "text": [
      "/opt/anaconda3/lib/python3.12/site-packages/sklearn/metrics/_regression.py:483: FutureWarning: 'squared' is deprecated in version 1.4 and will be removed in 1.6. To calculate the root mean squared error, use the function'root_mean_squared_error'.\n",
      "  warnings.warn(\n"
     ]
    },
    {
     "name": "stdout",
     "output_type": "stream",
     "text": [
      "Fold 1 RMSE (avg of SVD & Baseline): 0.91174\n",
      "\n",
      "=== Fold 2 ===\n",
      "Estimating biases using als...\n"
     ]
    },
    {
     "name": "stderr",
     "output_type": "stream",
     "text": [
      "/opt/anaconda3/lib/python3.12/site-packages/sklearn/metrics/_regression.py:483: FutureWarning: 'squared' is deprecated in version 1.4 and will be removed in 1.6. To calculate the root mean squared error, use the function'root_mean_squared_error'.\n",
      "  warnings.warn(\n"
     ]
    },
    {
     "name": "stdout",
     "output_type": "stream",
     "text": [
      "Fold 2 RMSE (avg of SVD & Baseline): 0.90639\n",
      "\n",
      "=== Fold 3 ===\n",
      "Estimating biases using als...\n"
     ]
    },
    {
     "name": "stderr",
     "output_type": "stream",
     "text": [
      "/opt/anaconda3/lib/python3.12/site-packages/sklearn/metrics/_regression.py:483: FutureWarning: 'squared' is deprecated in version 1.4 and will be removed in 1.6. To calculate the root mean squared error, use the function'root_mean_squared_error'.\n",
      "  warnings.warn(\n"
     ]
    },
    {
     "name": "stdout",
     "output_type": "stream",
     "text": [
      "Fold 3 RMSE (avg of SVD & Baseline): 0.90784\n",
      "\n",
      "=== Fold 4 ===\n",
      "Estimating biases using als...\n"
     ]
    },
    {
     "name": "stderr",
     "output_type": "stream",
     "text": [
      "/opt/anaconda3/lib/python3.12/site-packages/sklearn/metrics/_regression.py:483: FutureWarning: 'squared' is deprecated in version 1.4 and will be removed in 1.6. To calculate the root mean squared error, use the function'root_mean_squared_error'.\n",
      "  warnings.warn(\n"
     ]
    },
    {
     "name": "stdout",
     "output_type": "stream",
     "text": [
      "Fold 4 RMSE (avg of SVD & Baseline): 0.91353\n",
      "\n",
      "=== Fold 5 ===\n",
      "Estimating biases using als...\n"
     ]
    },
    {
     "name": "stderr",
     "output_type": "stream",
     "text": [
      "/opt/anaconda3/lib/python3.12/site-packages/sklearn/metrics/_regression.py:483: FutureWarning: 'squared' is deprecated in version 1.4 and will be removed in 1.6. To calculate the root mean squared error, use the function'root_mean_squared_error'.\n",
      "  warnings.warn(\n"
     ]
    },
    {
     "name": "stdout",
     "output_type": "stream",
     "text": [
      "Fold 5 RMSE (avg of SVD & Baseline): 0.90773\n",
      "\n",
      " Overall Training RMSE (XGBoost on all folds): 0.87077\n"
     ]
    },
    {
     "name": "stderr",
     "output_type": "stream",
     "text": [
      "/opt/anaconda3/lib/python3.12/site-packages/sklearn/metrics/_regression.py:483: FutureWarning: 'squared' is deprecated in version 1.4 and will be removed in 1.6. To calculate the root mean squared error, use the function'root_mean_squared_error'.\n",
      "  warnings.warn(\n"
     ]
    }
   ],
   "source": [
    "kf = KFold(n_splits=5, shuffle=True, random_state=42)\n",
    "X_all, y_all = [], []\n",
    "\n",
    "for fold, (train_idx, val_idx) in enumerate(kf.split(train_df)):\n",
    "    print(f\"\\n=== Fold {fold+1} ===\")\n",
    "    train_data = train_df.iloc[train_idx]\n",
    "    val_data = train_df.iloc[val_idx]\n",
    "\n",
    "    reader = Reader(rating_scale=(1, 5))\n",
    "    trainset = Dataset.load_from_df(train_data[['user_id', 'product_id', 'rating']], reader).build_full_trainset()\n",
    "    val_records = val_data[['user_id', 'product_id', 'rating', 'user_count', 'item_count']].to_records(index=False)\n",
    "\n",
    "    svd_model = SVD(n_factors=170, lr_all=0.015, reg_all=0.06, n_epochs=35, random_state=42)\n",
    "    baseline_model = BaselineOnly()\n",
    "    svd_model.fit(trainset)\n",
    "    baseline_model.fit(trainset)\n",
    "\n",
    "    X_val, y_val, preds_val = [], [], []\n",
    "\n",
    "    for uid, iid, true_r, u_cnt, i_cnt in val_records:\n",
    "        svd_pred = svd_model.predict(uid, iid).est\n",
    "        base_pred = baseline_model.predict(uid, iid).est\n",
    "        X_val.append([svd_pred, base_pred, int(uid), int(iid), u_cnt, i_cnt])\n",
    "        y_val.append(true_r)\n",
    "        preds_val.append((svd_pred + base_pred) / 2)  # Optional: averaged prediction just for display\n",
    "\n",
    "        # Final training set\n",
    "        X_all.append([svd_pred, base_pred, int(uid), int(iid), u_cnt, i_cnt])\n",
    "        y_all.append(true_r)\n",
    "\n",
    "    # Calculate fold RMSE using average prediction (for inspection only)\n",
    "    rmse = mean_squared_error(y_val, preds_val, squared=False)\n",
    "    print(f\"Fold {fold+1} RMSE (avg of SVD & Baseline): {rmse:.5f}\")\n",
    "\n",
    "# Train meta-model\n",
    "xgb_model = xgb.XGBRegressor(\n",
    "    n_estimators=300,\n",
    "    max_depth=4,\n",
    "    learning_rate=0.05,\n",
    "    subsample=0.8,\n",
    "    colsample_bytree=1.0,\n",
    "    reg_alpha=0.1,\n",
    "    reg_lambda=0.0,\n",
    "    random_state=42\n",
    ")\n",
    "xgb_model.fit(X_all, y_all)\n",
    "\n",
    "# Evaluate overall training RMSE\n",
    "y_pred_all = xgb_model.predict(X_all)\n",
    "overall_rmse = mean_squared_error(y_all, y_pred_all, squared=False)\n",
    "print(f\"\\n Overall Training RMSE (XGBoost on all folds): {overall_rmse:.5f}\")"
   ]
  },
  {
   "cell_type": "markdown",
   "id": "0be2510b",
   "metadata": {},
   "source": [
    "# 4. Full Model Retraining & Prediction"
   ]
  },
  {
   "cell_type": "code",
   "execution_count": null,
   "id": "f49efc1a",
   "metadata": {},
   "outputs": [],
   "source": [
    "# Retrain base models on full data\n",
    "reader = Reader(rating_scale=(1, 5))\n",
    "full_train = Dataset.load_from_df(train_df[['user_id', 'product_id', 'rating']], reader).build_full_trainset()\n",
    "svd_model.fit(full_train)\n",
    "baseline_model.fit(full_train)\n",
    "\n",
    "# Generate test predictions\n",
    "X_test = []\n",
    "for _, row in test_df.iterrows():\n",
    "    uid = row['user_id']\n",
    "    iid = row['product_id']\n",
    "    svd_pred = svd_model.predict(uid, iid).est\n",
    "    base_pred = baseline_model.predict(uid, iid).est\n",
    "    X_test.append([svd_pred, base_pred, uid, iid, row['user_count'], row['item_count']])\n",
    "\n",
    "test_preds = np.clip(xgb_model.predict(X_test), 1.0, 5.0)\n",
    "\n",
    "# Save submission\n",
    "test_df['rating'] = test_preds\n",
    "test_df[['ID', 'rating']].to_csv(\"34711783.csv\", index=False)\n",
    "print(\"Saved as 34711783.csv.csv\")"
   ]
  }
 ],
 "metadata": {
  "kernelspec": {
   "display_name": "base",
   "language": "python",
   "name": "python3"
  },
  "language_info": {
   "codemirror_mode": {
    "name": "ipython",
    "version": 3
   },
   "file_extension": ".py",
   "mimetype": "text/x-python",
   "name": "python",
   "nbconvert_exporter": "python",
   "pygments_lexer": "ipython3",
   "version": "3.12.4"
  }
 },
 "nbformat": 4,
 "nbformat_minor": 5
}
